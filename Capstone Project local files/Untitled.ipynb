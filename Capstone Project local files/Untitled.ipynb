{
 "cells": [
  {
   "cell_type": "code",
   "execution_count": 1,
   "id": "c5966aec-ed77-4c8f-983f-f1a0ce5411e8",
   "metadata": {},
   "outputs": [
    {
     "name": "stdout",
     "output_type": "stream",
     "text": [
      "[('bookings',), ('customerdetails',), ('menuitems',), ('menus',), ('orderdeliverystatuses',), ('orders',), ('ordersview',), ('ordersview2',), ('ordersview3',), ('staffinformation',)]\n"
     ]
    }
   ],
   "source": [
    "import mysql.connector as connector\n",
    "\n",
    "connection = connector.connect(user=\"root\", password=\"password\", database=\"littlelemondb\")\n",
    "cursor = connection.cursor()\n",
    "\n",
    "show_tables_query = \"SHOW tables\"\n",
    "cursor.execute(show_tables_query)\n",
    "\n",
    "results = cursor.fetchall()\n",
    "\n",
    "print(results)\n",
    "cursor.close()\n",
    "connection.close()"
   ]
  },
  {
   "cell_type": "code",
   "execution_count": 5,
   "id": "f09f460d-dbd6-49f5-8b5c-baea5598a145",
   "metadata": {},
   "outputs": [
    {
     "name": "stdout",
     "output_type": "stream",
     "text": [
      "Name: John Doe Contact Details: customer1@email.com Total Cost: 171\n",
      "Name: Jane Doe Contact Details: customer2@email.com Total Cost: 174\n",
      "Name: Alice Contact Details: customer3@email.com Total Cost: 358\n",
      "Name: Bob Contact Details: customer4@email.com Total Cost: 265\n",
      "Name: David Contact Details: customer6@email.com Total Cost: 465\n",
      "Name: Emily Contact Details: customer7@email.com Total Cost: 65\n",
      "Name: Frank Contact Details: customer8@email.com Total Cost: 437\n",
      "Name: Grace Contact Details: customer9@email.com Total Cost: 484\n",
      "Name: Hannah Contact Details: customer10@email.com Total Cost: 111\n"
     ]
    }
   ],
   "source": [
    "import mysql.connector as connector\n",
    "\n",
    "connection = connector.connect(user=\"root\", password=\"password\", database=\"littlelemondb\")\n",
    "cursor = connection.cursor()\n",
    "\n",
    "query = \"\"\"\n",
    "SELECT c.Name, c.Email, o.TotalCost\n",
    "FROM Orders AS o\n",
    "JOIN CustomerDetails AS c ON o.CustomerID = c.CustomerID\n",
    "WHERE o.TotalCost > 60;\n",
    "\"\"\"\n",
    "cursor.execute(query)\n",
    "\n",
    "results = cursor.fetchall()\n",
    "for result in results:\n",
    "    print(\"Name:\", result[0], \"Contact Details:\", result[1], \"Total Cost:\", result[2])\n",
    "\n",
    "cursor.close()\n",
    "connection.close()"
   ]
  },
  {
   "cell_type": "code",
   "execution_count": null,
   "id": "b088ce01-8c82-45c4-9465-d66a5d2bdbcf",
   "metadata": {},
   "outputs": [],
   "source": []
  }
 ],
 "metadata": {
  "kernelspec": {
   "display_name": "Python 3 (ipykernel)",
   "language": "python",
   "name": "python3"
  },
  "language_info": {
   "codemirror_mode": {
    "name": "ipython",
    "version": 3
   },
   "file_extension": ".py",
   "mimetype": "text/x-python",
   "name": "python",
   "nbconvert_exporter": "python",
   "pygments_lexer": "ipython3",
   "version": "3.12.2"
  }
 },
 "nbformat": 4,
 "nbformat_minor": 5
}
